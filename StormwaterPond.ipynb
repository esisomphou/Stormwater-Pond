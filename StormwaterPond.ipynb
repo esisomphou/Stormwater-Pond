{
  "nbformat": 4,
  "nbformat_minor": 0,
  "metadata": {
    "colab": {
      "provenance": [],
      "include_colab_link": true
    },
    "kernelspec": {
      "name": "python3",
      "display_name": "Python 3"
    },
    "language_info": {
      "name": "python"
    }
  },
  "cells": [
    {
      "cell_type": "markdown",
      "metadata": {
        "id": "view-in-github",
        "colab_type": "text"
      },
      "source": [
        "<a href=\"https://colab.research.google.com/github/esisomphou/Stormwater-Pond/blob/main/StormwaterPond.ipynb\" target=\"_parent\"><img src=\"https://colab.research.google.com/assets/colab-badge.svg\" alt=\"Open In Colab\"/></a>"
      ]
    },
    {
      "cell_type": "code",
      "execution_count": null,
      "metadata": {
        "id": "avkAc9wg17AI",
        "colab": {
          "base_uri": "https://localhost:8080/"
        },
        "outputId": "57177866-8f21-4bee-dd21-1ab9027fb1b6"
      },
      "outputs": [
        {
          "output_type": "stream",
          "name": "stdout",
          "text": [
            "Settling Velocity:\n",
            "10.0 Micrometers = 0.0000599 m/s\n",
            "20.0 Micrometers = 0.0002398 m/s\n",
            "30.0 Micrometers = 0.0005392 m/s\n",
            "40.0 Micrometers = 0.0009578 m/s\n",
            "50.0 Micrometers = 0.0014944 m/s\n",
            "60.0 Micrometers = 0.0021474 m/s\n"
          ]
        }
      ],
      "source": [
        "########################################################################\n",
        "# Name: Emma Sisomphou\n",
        "# Date: 05.16.2024\n",
        "# Description: Calulating a stormwater pond with mathematical equations\n",
        "# Input: numpy, pandas, units, dimension\n",
        "# Output: The area of a stormwater pond\n",
        "########################################################################\n",
        "\n",
        "import numpy as np\n",
        "import pandas as pd\n",
        "\n",
        "sediment_density = 2650                # kg/m^3\n",
        "water_density = 1000                   # kg/m^3\n",
        "dynamic_viscosity_fluid = 1E-3         # Ns/m^2\n",
        "gravity = 9.81                         # m/s^2\n",
        "pipe_diameter = 2                      # D\n",
        "surface_are = 200*200                  # meters\n",
        "discharge_coefficient = 0.98           # rounded orifice\n",
        "initial_water_height = 2               # meters\n",
        "final_water_height = 0                 # meters\n",
        "\n",
        "surface_area = 200 * 200\n",
        "\n",
        "predicted_settling_velocity = 0\n",
        "guess_settling_velocity = 0.0000001\n",
        "\n",
        "sediment_grain_size = [10E-6, 20E-6, 30E-6, 40E-6, 50E-6, 60E-6]\n",
        "settling_sediment_velocity = []\n",
        "\n",
        "print(\"Settling Velocity:\")\n",
        "\n",
        "for grain_size in sediment_grain_size:                                  # calculates the settling velocity of sediment particles for each grain size until the difference between successive estimates is minimal\n",
        "    diff_ws = 76354873587236\n",
        "    while diff_ws >= 0.000000001:          # m/s\n",
        "        reynolds = ((water_density * grain_size * guess_settling_velocity) / dynamic_viscosity_fluid)\n",
        "        drag_coefficient = ((36 / reynolds) + 1.4)\n",
        "        settling_velocity = np.sqrt((4/3) * ((gravity * grain_size) / drag_coefficient) * ((sediment_density / water_density) - 1))\n",
        "        diff_ws = np.abs(guess_settling_velocity - settling_velocity)\n",
        "        guess_settling_velocity = settling_velocity\n",
        "    settling_sediment_velocity.append(guess_settling_velocity)\n",
        "    micrometers_conversion = grain_size * 1000000\n",
        "    print(micrometers_conversion, \"Micrometers = {:.7f} m/s\".format(guess_settling_velocity))\n",
        "\n"
      ]
    },
    {
      "cell_type": "code",
      "source": [
        "# Part 2:\n",
        "# Hours it takes the water to settle\n",
        "\n",
        "print(\"Time to Settle:\")\n",
        "\n",
        "def calc_settle_time(depth_pond, settling_sediments):                 # calculates the settling time in hours for sediments to settle to the bottom of a pond\n",
        "    return (depth_pond / settling_sediments) / 3600\n",
        "\n",
        "i = 0\n",
        "for micrometers in settling_sediment_velocity:                        # calculates the each grain sediment sizes and the time it takes in hours for the pond to settle\n",
        "    settlement_time = calc_settle_time(initial_water_height, micrometers)\n",
        "    print(sediment_grain_size[i] * 1000000, \"grain size sediments it takes\", round(settlement_time, 2), \"hours to settle in the pond\")\n",
        "    i += 1\n",
        "\n"
      ],
      "metadata": {
        "colab": {
          "base_uri": "https://localhost:8080/"
        },
        "id": "zMJ2TbP-ZkTt",
        "outputId": "2392eeab-8162-4cdf-8c00-137fefa8c7ed"
      },
      "execution_count": null,
      "outputs": [
        {
          "output_type": "stream",
          "name": "stdout",
          "text": [
            "Time to Settle:\n",
            "10.0 grain size sediments it takes 9.27 hours to settle in the pond\n",
            "20.0 grain size sediments it takes 2.32 hours to settle in the pond\n",
            "30.0 grain size sediments it takes 1.03 hours to settle in the pond\n",
            "40.0 grain size sediments it takes 0.58 hours to settle in the pond\n",
            "50.0 grain size sediments it takes 0.37 hours to settle in the pond\n",
            "60.0 grain size sediments it takes 0.26 hours to settle in the pond\n"
          ]
        }
      ]
    },
    {
      "cell_type": "code",
      "source": [
        "# Part 3:\n",
        "# Orifice Size\n",
        "\n",
        "surface_area = 200 * 200\n",
        "\n",
        "efficient_time = 1.03 * 3600\n",
        "\n",
        "print(\"Orifice Size:\")\n",
        "\n",
        "def orifice_equation(efficient_time, initial_water_height, final_water_height, discharge_coefficient):   # divided up the equation into variables into a function then recalled the varaibles and added them into the equations to get the correct calculation\n",
        "    water_heigth = np.sqrt(initial_water_height) - np.sqrt(final_water_height)\n",
        "    drain_outlet_area = (4 * surface_area) / (np.pi * efficient_time * discharge_coefficient)\n",
        "    acceleration = np.sqrt(2 / gravity)\n",
        "    return np.sqrt(drain_outlet_area * water_heigth * acceleration)\n",
        "\n",
        "orifice = orifice_equation(efficient_time, initial_water_height, final_water_height, discharge_coefficient)\n",
        "print(\"The orifice needs to be\", round(orifice, 3), \"meters in diameter to allow 85% of the sediments in the pond to settle before the water leaves the pond\")\n",
        "\n"
      ],
      "metadata": {
        "id": "a3DelEGpZ7v-",
        "colab": {
          "base_uri": "https://localhost:8080/"
        },
        "outputId": "18d514ea-398c-4b73-d3c8-551d633f35c7"
      },
      "execution_count": null,
      "outputs": [
        {
          "output_type": "stream",
          "name": "stdout",
          "text": [
            "Orifice Size:\n",
            "The orifice needs to be 2.992 meters in diameter to allow 85% of the sediments in the pond to settle before the water leaves the pond\n"
          ]
        }
      ]
    },
    {
      "cell_type": "code",
      "source": [
        "# Part 4:\n",
        "# processing stormwater in a stormwater retention pond\n",
        "\n",
        "electricity_mwh = 1875 * 1E-6\n",
        "electricity_kwh = 0.116 * 1E9\n",
        "waterwaste = 0.10                                   # percentage\n",
        "\n",
        "print(\"Energy Saving:\")\n",
        "\n",
        "def energy_saving(electricity_mwh, waterwaste):     # function calculates and returns the energy saved and the corresponding cost savings based on electricity usage and water waste.\n",
        "    saved_energy = electricity_mwh * waterwaste\n",
        "    saved_money = saved_energy * electricity_kwh\n",
        "    return saved_money, saved_energy\n",
        "\n",
        "saved_money, saved_energy = energy_saving(electricity_mwh, waterwaste)\n",
        "\n",
        "print(\"The energy savings of removing 10% of the water being processed unnecessarily\\nby the Corvallis wastewater treatment plant is\", saved_energy, \"twh\\nand will save the city $\", saved_money, \"per year.\")\n"
      ],
      "metadata": {
        "colab": {
          "base_uri": "https://localhost:8080/"
        },
        "id": "CEdfw9P4Xji-",
        "outputId": "6386641b-73f4-44cc-b8a9-fca2bc78be45"
      },
      "execution_count": null,
      "outputs": [
        {
          "output_type": "stream",
          "name": "stdout",
          "text": [
            "Energy Saving:\n",
            "The energy savings of removing 10% of the water being processed unnecessarily\n",
            "by the Corvallis wastewater treatment plant is 0.0001875 twh\n",
            "and will save the city $ 21750.0 per year.\n"
          ]
        }
      ]
    },
    {
      "cell_type": "code",
      "source": [
        "from google.colab import drive\n",
        "drive.mount('/content/drive')"
      ],
      "metadata": {
        "id": "IA1mDEC2-gdq"
      },
      "execution_count": null,
      "outputs": []
    }
  ]
}